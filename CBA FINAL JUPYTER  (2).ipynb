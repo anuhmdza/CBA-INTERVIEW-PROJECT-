{
 "cells": [
  {
   "cell_type": "markdown",
   "id": "83acdc3d",
   "metadata": {},
   "source": []
  },
  {
   "cell_type": "code",
   "execution_count": 39,
   "id": "08fce9ef",
   "metadata": {
    "scrolled": true
   },
   "outputs": [
    {
     "name": "stdout",
     "output_type": "stream",
     "text": [
      "Requirement already satisfied: flask in /opt/anaconda3/lib/python3.12/site-packages (3.0.3)\n",
      "Requirement already satisfied: mysql-connector-python in /opt/anaconda3/lib/python3.12/site-packages (9.2.0)\n",
      "Requirement already satisfied: pandas in /opt/anaconda3/lib/python3.12/site-packages (2.2.2)\n",
      "Requirement already satisfied: Werkzeug>=3.0.0 in /opt/anaconda3/lib/python3.12/site-packages (from flask) (3.0.3)\n",
      "Requirement already satisfied: Jinja2>=3.1.2 in /opt/anaconda3/lib/python3.12/site-packages (from flask) (3.1.4)\n",
      "Requirement already satisfied: itsdangerous>=2.1.2 in /opt/anaconda3/lib/python3.12/site-packages (from flask) (2.2.0)\n",
      "Requirement already satisfied: click>=8.1.3 in /opt/anaconda3/lib/python3.12/site-packages (from flask) (8.1.7)\n",
      "Requirement already satisfied: blinker>=1.6.2 in /opt/anaconda3/lib/python3.12/site-packages (from flask) (1.6.2)\n",
      "Requirement already satisfied: numpy>=1.26.0 in /opt/anaconda3/lib/python3.12/site-packages (from pandas) (1.26.4)\n",
      "Requirement already satisfied: python-dateutil>=2.8.2 in /opt/anaconda3/lib/python3.12/site-packages (from pandas) (2.9.0.post0)\n",
      "Requirement already satisfied: pytz>=2020.1 in /opt/anaconda3/lib/python3.12/site-packages (from pandas) (2024.1)\n",
      "Requirement already satisfied: tzdata>=2022.7 in /opt/anaconda3/lib/python3.12/site-packages (from pandas) (2023.3)\n",
      "Requirement already satisfied: MarkupSafe>=2.0 in /opt/anaconda3/lib/python3.12/site-packages (from Jinja2>=3.1.2->flask) (2.1.3)\n",
      "Requirement already satisfied: six>=1.5 in /opt/anaconda3/lib/python3.12/site-packages (from python-dateutil>=2.8.2->pandas) (1.16.0)\n"
     ]
    }
   ],
   "source": [
    "!pip install flask mysql-connector-python pandas"
   ]
  },
  {
   "cell_type": "code",
   "execution_count": 40,
   "id": "e80c540e",
   "metadata": {},
   "outputs": [],
   "source": [
    "import mysql.connector\n",
    "\n",
    "def run_query(query, params=None):\n",
    "    conn = mysql.connector.connect(\n",
    "        host='localhost',\n",
    "        user='root',\n",
    "        password='coconuts',\n",
    "        database='StoreData'\n",
    "    )\n",
    "    cursor = conn.cursor(dictionary=True)\n",
    "    cursor.execute(query, params or ())\n",
    "    if query.strip().lower().startswith(\"select\"):\n",
    "        result = cursor.fetchall()\n",
    "    else:\n",
    "        conn.commit()\n",
    "        result = {\"message\": \"Query executed successfully\"}\n",
    "    cursor.close()\n",
    "    conn.close()\n",
    "    return result"
   ]
  },
  {
   "cell_type": "code",
   "execution_count": 41,
   "id": "c5d57e97",
   "metadata": {},
   "outputs": [],
   "source": [
    "# Create Database\n",
    "conn = mysql.connector.connect(\n",
    "    host='localhost',\n",
    "    user='root',\n",
    "    password='coconuts'\n",
    ")\n",
    "cursor = conn.cursor()\n",
    "cursor.execute(\"CREATE DATABASE IF NOT EXISTS StoreData;\")\n",
    "conn.commit()\n",
    "cursor.close()\n",
    "conn.close()"
   ]
  },
  {
   "cell_type": "code",
   "execution_count": 42,
   "id": "8966905f",
   "metadata": {},
   "outputs": [
    {
     "data": {
      "text/plain": [
       "{'message': 'Query executed successfully'}"
      ]
     },
     "execution_count": 42,
     "metadata": {},
     "output_type": "execute_result"
    }
   ],
   "source": [
    "# Create Table\n",
    "run_query(\"\"\"\n",
    "CREATE TABLE IF NOT EXISTS Sales (\n",
    "    id INT PRIMARY KEY,\n",
    "    store_id VARCHAR(10),\n",
    "    total_sales DECIMAL(10,2),\n",
    "    date DATE\n",
    ")\n",
    "\"\"\")"
   ]
  },
  {
   "cell_type": "code",
   "execution_count": 44,
   "id": "a46877b3",
   "metadata": {},
   "outputs": [
    {
     "name": "stdout",
     "output_type": "stream",
     "text": [
      "Existing IDs: [1001, 1002, 1003, 1007]\n",
      "Insert response: {'message': 'Query executed successfully'}\n"
     ]
    }
   ],
   "source": [
    "# STEP 3 — View existing IDs and insert a new sale record\n",
    "\n",
    "# View existing IDs so we avoid duplicates\n",
    "existing_ids = run_query(\"SELECT id FROM Sales\")\n",
    "print(\"Existing IDs:\", [row[\"id\"] for row in existing_ids])\n",
    "\n",
    "# Now insert a record using a new ID\n",
    "new_data = {\n",
    "    \"id\": 1008,  # ✅ Make sure this number is not already listed above\n",
    "    \"store_id\": \"TX009\",\n",
    "    \"total_sales\": 199.99,\n",
    "    \"date\": \"2023-04-08\"\n",
    "}\n",
    "\n",
    "try:\n",
    "    response = run_query(\"\"\"\n",
    "    INSERT INTO Sales (id, store_id, total_sales, date)\n",
    "    VALUES (%s, %s, %s, %s)\n",
    "    \"\"\", (new_data[\"id\"], new_data[\"store_id\"], new_data[\"total_sales\"], new_data[\"date\"]))\n",
    "    print(\"Insert response:\", response)\n",
    "except Exception as e:\n",
    "    print(\"⚠️ Error inserting record:\", e)\n",
    "\n"
   ]
  },
  {
   "cell_type": "code",
   "execution_count": 46,
   "id": "6e403dd7",
   "metadata": {},
   "outputs": [
    {
     "data": {
      "text/html": [
       "<div>\n",
       "<style scoped>\n",
       "    .dataframe tbody tr th:only-of-type {\n",
       "        vertical-align: middle;\n",
       "    }\n",
       "\n",
       "    .dataframe tbody tr th {\n",
       "        vertical-align: top;\n",
       "    }\n",
       "\n",
       "    .dataframe thead th {\n",
       "        text-align: right;\n",
       "    }\n",
       "</style>\n",
       "<table border=\"1\" class=\"dataframe\">\n",
       "  <thead>\n",
       "    <tr style=\"text-align: right;\">\n",
       "      <th></th>\n",
       "      <th>id</th>\n",
       "      <th>store_id</th>\n",
       "      <th>total_sales</th>\n",
       "      <th>date</th>\n",
       "    </tr>\n",
       "  </thead>\n",
       "  <tbody>\n",
       "    <tr>\n",
       "      <th>0</th>\n",
       "      <td>1001</td>\n",
       "      <td>TX001</td>\n",
       "      <td>150.75</td>\n",
       "      <td>2023-01-20</td>\n",
       "    </tr>\n",
       "    <tr>\n",
       "      <th>1</th>\n",
       "      <td>1002</td>\n",
       "      <td>TX001</td>\n",
       "      <td>150.75</td>\n",
       "      <td>2023-01-20</td>\n",
       "    </tr>\n",
       "    <tr>\n",
       "      <th>2</th>\n",
       "      <td>1003</td>\n",
       "      <td>TX002</td>\n",
       "      <td>220.45</td>\n",
       "      <td>2023-02-15</td>\n",
       "    </tr>\n",
       "    <tr>\n",
       "      <th>3</th>\n",
       "      <td>1007</td>\n",
       "      <td>TX001</td>\n",
       "      <td>150.75</td>\n",
       "      <td>2023-01-20</td>\n",
       "    </tr>\n",
       "    <tr>\n",
       "      <th>4</th>\n",
       "      <td>1008</td>\n",
       "      <td>TX009</td>\n",
       "      <td>199.99</td>\n",
       "      <td>2023-04-08</td>\n",
       "    </tr>\n",
       "  </tbody>\n",
       "</table>\n",
       "</div>"
      ],
      "text/plain": [
       "     id store_id total_sales        date\n",
       "0  1001    TX001      150.75  2023-01-20\n",
       "1  1002    TX001      150.75  2023-01-20\n",
       "2  1003    TX002      220.45  2023-02-15\n",
       "3  1007    TX001      150.75  2023-01-20\n",
       "4  1008    TX009      199.99  2023-04-08"
      ]
     },
     "execution_count": 46,
     "metadata": {},
     "output_type": "execute_result"
    }
   ],
   "source": [
    "# Fetch Records Between Dates\n",
    "import pandas as pd\n",
    "\n",
    "start_date = \"2023-01-01\"\n",
    "end_date = \"2023-12-31\"\n",
    "\n",
    "result = run_query(\"\"\"\n",
    "SELECT * FROM Sales WHERE date BETWEEN %s AND %s\n",
    "\"\"\", (start_date, end_date))\n",
    "\n",
    "pd.DataFrame(result)"
   ]
  },
  {
   "cell_type": "code",
   "execution_count": null,
   "id": "24d7480b-cbbc-49a9-b717-7c8946333fc7",
   "metadata": {},
   "outputs": [],
   "source": []
  },
  {
   "cell_type": "code",
   "execution_count": null,
   "id": "8e6d56a7-ebc0-49e9-8b21-322e673bc44a",
   "metadata": {},
   "outputs": [],
   "source": []
  }
 ],
 "metadata": {
  "kernelspec": {
   "display_name": "Python 3 (ipykernel)",
   "language": "python",
   "name": "python3"
  },
  "language_info": {
   "codemirror_mode": {
    "name": "ipython",
    "version": 3
   },
   "file_extension": ".py",
   "mimetype": "text/x-python",
   "name": "python",
   "nbconvert_exporter": "python",
   "pygments_lexer": "ipython3",
   "version": "3.12.4"
  }
 },
 "nbformat": 4,
 "nbformat_minor": 5
}
