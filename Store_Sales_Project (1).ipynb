{
 "cells": [
  {
   "cell_type": "markdown",
   "id": "2f17e4c5",
   "metadata": {},
   "source": [
    "# 🛠️ Store Sales Project - Jupyter Notebook Version\n",
    "This notebook contains all steps to run your Flask-style data engineering project using MySQL and Python directly in Jupyter."
   ]
  },
  {
   "cell_type": "code",
   "execution_count": 25,
   "id": "8d6b6e8f",
   "metadata": {},
   "outputs": [
    {
     "name": "stdout",
     "output_type": "stream",
     "text": [
      "Requirement already satisfied: flask in /opt/anaconda3/lib/python3.12/site-packages (3.0.3)\n",
      "Requirement already satisfied: mysql-connector-python in /opt/anaconda3/lib/python3.12/site-packages (9.2.0)\n",
      "Requirement already satisfied: pandas in /opt/anaconda3/lib/python3.12/site-packages (2.2.2)\n",
      "Requirement already satisfied: Werkzeug>=3.0.0 in /opt/anaconda3/lib/python3.12/site-packages (from flask) (3.0.3)\n",
      "Requirement already satisfied: Jinja2>=3.1.2 in /opt/anaconda3/lib/python3.12/site-packages (from flask) (3.1.4)\n",
      "Requirement already satisfied: itsdangerous>=2.1.2 in /opt/anaconda3/lib/python3.12/site-packages (from flask) (2.2.0)\n",
      "Requirement already satisfied: click>=8.1.3 in /opt/anaconda3/lib/python3.12/site-packages (from flask) (8.1.7)\n",
      "Requirement already satisfied: blinker>=1.6.2 in /opt/anaconda3/lib/python3.12/site-packages (from flask) (1.6.2)\n",
      "Requirement already satisfied: numpy>=1.26.0 in /opt/anaconda3/lib/python3.12/site-packages (from pandas) (1.26.4)\n",
      "Requirement already satisfied: python-dateutil>=2.8.2 in /opt/anaconda3/lib/python3.12/site-packages (from pandas) (2.9.0.post0)\n",
      "Requirement already satisfied: pytz>=2020.1 in /opt/anaconda3/lib/python3.12/site-packages (from pandas) (2024.1)\n",
      "Requirement already satisfied: tzdata>=2022.7 in /opt/anaconda3/lib/python3.12/site-packages (from pandas) (2023.3)\n",
      "Requirement already satisfied: MarkupSafe>=2.0 in /opt/anaconda3/lib/python3.12/site-packages (from Jinja2>=3.1.2->flask) (2.1.3)\n",
      "Requirement already satisfied: six>=1.5 in /opt/anaconda3/lib/python3.12/site-packages (from python-dateutil>=2.8.2->pandas) (1.16.0)\n"
     ]
    }
   ],
   "source": [
    "!pip install flask mysql-connector-python pandas"
   ]
  },
  {
   "cell_type": "markdown",
   "id": "28d1b8b0",
   "metadata": {},
   "source": [
    "## 🔌 Step 1: Connect to MySQL"
   ]
  },
  {
   "cell_type": "code",
   "execution_count": 27,
   "id": "0671ecf9",
   "metadata": {},
   "outputs": [],
   "source": [
    "import mysql.connector\n",
    "\n",
    "def run_query(query, params=None):\n",
    "    conn = mysql.connector.connect(\n",
    "        host='localhost',\n",
    "        user='root',\n",
    "        password='your_password',  # Replace with your actual MySQL password\n",
    "        database='StoreData'\n",
    "    )\n",
    "    cursor = conn.cursor(dictionary=True)\n",
    "    cursor.execute(query, params or ())\n",
    "    if query.strip().lower().startswith(\"select\"):\n",
    "        result = cursor.fetchall()\n",
    "    else:\n",
    "        conn.commit()\n",
    "        result = {'message': 'Query executed successfully'}\n",
    "    cursor.close()\n",
    "    conn.close()\n",
    "    return result"
   ]
  },
  {
   "cell_type": "markdown",
   "id": "e6fd6166",
   "metadata": {},
   "source": [
    "## 🗃️ Step 2: Create Database and Table"
   ]
  },
  {
   "cell_type": "code",
   "execution_count": 29,
   "id": "b12df7a7",
   "metadata": {},
   "outputs": [],
   "source": [
    "def run_query(query, params=None):\n",
    "    conn = mysql.connector.connect(\n",
    "        host='localhost',\n",
    "        user='root',\n",
    "        password='coconuts',\n",
    "        database='StoreData'  \n",
    "    )\n",
    "    cursor = conn.cursor(dictionary=True)\n",
    "    cursor.execute(query, params or ())\n",
    "    if query.strip().lower().startswith(\"select\"):\n",
    "        result = cursor.fetchall()\n",
    "    else:\n",
    "        conn.commit()\n",
    "        result = {\"message\": \"Query executed successfully\"}\n",
    "    cursor.close()\n",
    "    conn.close()\n",
    "    return result\n"
   ]
  },
  {
   "cell_type": "markdown",
   "id": "42259292",
   "metadata": {},
   "source": [
    "## 📝 Step 3: Insert a Sale Record (POST Equivalent)"
   ]
  },
  {
   "cell_type": "code",
   "execution_count": 34,
   "id": "ac873f61",
   "metadata": {},
   "outputs": [
    {
     "data": {
      "text/plain": [
       "{'message': 'Query executed successfully'}"
      ]
     },
     "execution_count": 34,
     "metadata": {},
     "output_type": "execute_result"
    }
   ],
   "source": [
    "# Create Table\n",
    "run_query(\"\"\"\n",
    "CREATE TABLE IF NOT EXISTS Sales (\n",
    "    id INT PRIMARY KEY,\n",
    "    store_id VARCHAR(10),\n",
    "    total_sales DECIMAL(10,2),\n",
    "    date DATE\n",
    ")\n",
    "\"\"\")\n"
   ]
  },
  {
   "cell_type": "markdown",
   "id": "a2a19361",
   "metadata": {},
   "source": [
    "## 📊 Step 4: Fetch Records Between Dates (GET Equivalent)"
   ]
  },
  {
   "cell_type": "code",
   "execution_count": 37,
   "id": "6c472f41",
   "metadata": {},
   "outputs": [
    {
     "data": {
      "text/html": [
       "<div>\n",
       "<style scoped>\n",
       "    .dataframe tbody tr th:only-of-type {\n",
       "        vertical-align: middle;\n",
       "    }\n",
       "\n",
       "    .dataframe tbody tr th {\n",
       "        vertical-align: top;\n",
       "    }\n",
       "\n",
       "    .dataframe thead th {\n",
       "        text-align: right;\n",
       "    }\n",
       "</style>\n",
       "<table border=\"1\" class=\"dataframe\">\n",
       "  <thead>\n",
       "    <tr style=\"text-align: right;\">\n",
       "      <th></th>\n",
       "      <th>id</th>\n",
       "      <th>store_id</th>\n",
       "      <th>total_sales</th>\n",
       "      <th>date</th>\n",
       "    </tr>\n",
       "  </thead>\n",
       "  <tbody>\n",
       "    <tr>\n",
       "      <th>0</th>\n",
       "      <td>1001</td>\n",
       "      <td>TX001</td>\n",
       "      <td>150.75</td>\n",
       "      <td>2023-01-20</td>\n",
       "    </tr>\n",
       "  </tbody>\n",
       "</table>\n",
       "</div>"
      ],
      "text/plain": [
       "     id store_id total_sales        date\n",
       "0  1001    TX001      150.75  2023-01-20"
      ]
     },
     "execution_count": 37,
     "metadata": {},
     "output_type": "execute_result"
    }
   ],
   "source": [
    "import pandas as pd\n",
    "\n",
    "start_date = \"2023-01-01\"\n",
    "end_date = \"2023-12-31\"\n",
    "\n",
    "result = run_query(\"\"\"\n",
    "SELECT * FROM Sales WHERE date BETWEEN %s AND %s\n",
    "\"\"\", (start_date, end_date))\n",
    "\n",
    "pd.DataFrame(result)"
   ]
  },
  {
   "cell_type": "code",
   "execution_count": null,
   "id": "77fdf6dd-e73f-40b9-a32e-66d75d91389b",
   "metadata": {},
   "outputs": [],
   "source": []
  }
 ],
 "metadata": {
  "kernelspec": {
   "display_name": "Python 3 (ipykernel)",
   "language": "python",
   "name": "python3"
  },
  "language_info": {
   "codemirror_mode": {
    "name": "ipython",
    "version": 3
   },
   "file_extension": ".py",
   "mimetype": "text/x-python",
   "name": "python",
   "nbconvert_exporter": "python",
   "pygments_lexer": "ipython3",
   "version": "3.12.4"
  }
 },
 "nbformat": 4,
 "nbformat_minor": 5
}
